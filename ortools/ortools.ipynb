{
 "cells": [
  {
   "cell_type": "markdown",
   "metadata": {},
   "source": [
    "# Importando linear solver"
   ]
  },
  {
   "cell_type": "code",
   "execution_count": 8,
   "metadata": {},
   "outputs": [],
   "source": [
    "from ortools.linear_solver import pywraplp"
   ]
  },
  {
   "cell_type": "markdown",
   "metadata": {},
   "source": [
    "# Instanciando solver desejado"
   ]
  },
  {
   "cell_type": "code",
   "execution_count": 9,
   "metadata": {},
   "outputs": [],
   "source": [
    "solver = pywraplp.Solver.CreateSolver('GLOP')"
   ]
  },
  {
   "cell_type": "markdown",
   "metadata": {},
   "source": [
    "# Declarando variáveis"
   ]
  },
  {
   "cell_type": "code",
   "execution_count": 10,
   "metadata": {},
   "outputs": [
    {
     "name": "stdout",
     "output_type": "stream",
     "text": [
      "Number of variables = 3\n"
     ]
    }
   ],
   "source": [
    "xt = solver.NumVar(0, solver.infinity(), 'xt')\n",
    "xa = solver.NumVar(0, solver.infinity(), 'xa')\n",
    "xm = solver.NumVar(0, solver.infinity(), 'xm')\n",
    "\n",
    "print('Number of variables =', solver.NumVariables())"
   ]
  },
  {
   "cell_type": "markdown",
   "metadata": {},
   "source": [
    "# Adicionando constraints (regras)\n",
    "\n",
    "A não nagatividade já é garantida na etapa anterior"
   ]
  },
  {
   "cell_type": "code",
   "execution_count": 11,
   "metadata": {},
   "outputs": [
    {
     "name": "stdout",
     "output_type": "stream",
     "text": [
      "Number of constraints = 5\n"
     ]
    }
   ],
   "source": [
    "solver.Add(1000*(1.8*xt + 2.1*xa + 2.9*xm) <= 7e5)\n",
    "solver.Add(xt/1.8 + xa/2.1 + xm/2.9 <= 200)\n",
    "solver.Add(xt >= 12)\n",
    "solver.Add(xa >= 16)\n",
    "solver.Add(xm >= 20)\n",
    "\n",
    "print('Number of constraints =', solver.NumConstraints())\n"
   ]
  },
  {
   "cell_type": "markdown",
   "metadata": {},
   "source": [
    "# Definindo função objetivo"
   ]
  },
  {
   "cell_type": "code",
   "execution_count": 12,
   "metadata": {},
   "outputs": [],
   "source": [
    "solver.Maximize(1.2*xt + 0.6*xa + 0.28*xm)"
   ]
  },
  {
   "cell_type": "markdown",
   "metadata": {},
   "source": [
    "# Invacando o solver"
   ]
  },
  {
   "cell_type": "code",
   "execution_count": 13,
   "metadata": {},
   "outputs": [],
   "source": [
    "status = solver.Solve()"
   ]
  },
  {
   "cell_type": "markdown",
   "metadata": {},
   "source": [
    "# Apresentando a solução"
   ]
  },
  {
   "cell_type": "code",
   "execution_count": 14,
   "metadata": {},
   "outputs": [
    {
     "name": "stdout",
     "output_type": "stream",
     "text": [
      "Solution:\n",
      "Objective value = 415.8463054187192\n",
      "xt = 333.871921182266\n",
      "xa = 16.0\n",
      "xm = 20.0\n"
     ]
    }
   ],
   "source": [
    "if status == pywraplp.Solver.OPTIMAL:\n",
    "    print('Solution:')\n",
    "    print('Objective value =', solver.Objective().Value())\n",
    "    print('xt =', xt.solution_value())\n",
    "    print('xa =', xa.solution_value())\n",
    "    print('xm =', xm.solution_value())\n",
    "else:\n",
    "    print('The problem does not have an optimal solution.')"
   ]
  }
 ],
 "metadata": {
  "kernelspec": {
   "display_name": "Python 3.9.11 ('machine_learning')",
   "language": "python",
   "name": "python3"
  },
  "language_info": {
   "codemirror_mode": {
    "name": "ipython",
    "version": 3
   },
   "file_extension": ".py",
   "mimetype": "text/x-python",
   "name": "python",
   "nbconvert_exporter": "python",
   "pygments_lexer": "ipython3",
   "version": "3.9.11"
  },
  "orig_nbformat": 4,
  "vscode": {
   "interpreter": {
    "hash": "9ed5d1d1dfe9b2261c7a773d4a02e4cd4211327f910f2d56bd92bd353db7856e"
   }
  }
 },
 "nbformat": 4,
 "nbformat_minor": 2
}
