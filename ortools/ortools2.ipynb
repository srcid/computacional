{
 "cells": [
  {
   "cell_type": "markdown",
   "metadata": {},
   "source": [
    "# Importando linear solver"
   ]
  },
  {
   "cell_type": "code",
   "execution_count": 1,
   "metadata": {},
   "outputs": [],
   "source": [
    "from ortools.linear_solver import pywraplp"
   ]
  },
  {
   "cell_type": "markdown",
   "metadata": {},
   "source": [
    "# Instanciando solver desejado"
   ]
  },
  {
   "cell_type": "code",
   "execution_count": 2,
   "metadata": {},
   "outputs": [],
   "source": [
    "solver = pywraplp.Solver.CreateSolver('GLOP')"
   ]
  },
  {
   "cell_type": "markdown",
   "metadata": {},
   "source": [
    "# Constantes do problema 5 por 5"
   ]
  },
  {
   "cell_type": "markdown",
   "metadata": {},
   "source": [
    "I => para os suppliers \\\n",
    "J => para os consummers"
   ]
  },
  {
   "cell_type": "code",
   "execution_count": 3,
   "metadata": {},
   "outputs": [],
   "source": [
    "NUMBER_OF_SUPPLIERS = 5\n",
    "NUMBER_OF_CONSUMMERS = 5\n",
    "STORE_OF_SUPPLIERS = [10,20,30,15,5]\n",
    "DEMMAND_OF_CONSUMMER = [50,10,10,5,5]\n",
    "# gerado aleátoricamente desse mode: np.random.rand(25) * np.random.randint(10,30,25)\n",
    "COST = [\n",
    "        [11.31505676, 18.7384898, 8.88011622, 7.84299588, 3.134272],\n",
    "        [18.94390962, 14.65280209,  5.97265786,  1.62092232,  4.75968209], \n",
    "        [23.40115226,  6.37933757,  7.21447044,  9.0752716 , 12.53105878],\n",
    "        [7.83342519,  2.70090571, 13.44623171, 17.42636235, 19.77961684],\n",
    "        [2.09773517, 17.49333411,  6.02854186, 12.37149951, 13.56231346]\n",
    "]"
   ]
  },
  {
   "cell_type": "markdown",
   "metadata": {},
   "source": [
    "# Variáveis do problema 5 por 5"
   ]
  },
  {
   "cell_type": "code",
   "execution_count": 4,
   "metadata": {},
   "outputs": [],
   "source": [
    "qtd = []\n",
    "\n",
    "for i in range(NUMBER_OF_SUPPLIERS):\n",
    "  qtd.append([])\n",
    "  for j in range(NUMBER_OF_CONSUMMERS):\n",
    "    qtd[i].append(solver.NumVar(0, solver.Infinity(), f'x_{i}_{j}'))"
   ]
  },
  {
   "cell_type": "code",
   "execution_count": 5,
   "metadata": {},
   "outputs": [
    {
     "data": {
      "text/plain": [
       "25"
      ]
     },
     "execution_count": 5,
     "metadata": {},
     "output_type": "execute_result"
    }
   ],
   "source": [
    "solver.NumVariables()"
   ]
  },
  {
   "cell_type": "markdown",
   "metadata": {},
   "source": [
    "# Adicionando constraints"
   ]
  },
  {
   "cell_type": "code",
   "execution_count": 6,
   "metadata": {},
   "outputs": [],
   "source": [
    "for i in range(NUMBER_OF_SUPPLIERS):\n",
    "  solver.Add(solver.Sum([qtd[i][j] for j in range(NUMBER_OF_CONSUMMERS)]) <= STORE_OF_SUPPLIERS[i])"
   ]
  },
  {
   "cell_type": "code",
   "execution_count": 7,
   "metadata": {},
   "outputs": [],
   "source": [
    "for j in range(NUMBER_OF_CONSUMMERS):\n",
    "  solver.Add(solver.Sum([(qtd[i][j]) for i in range(NUMBER_OF_SUPPLIERS) ]) >= DEMMAND_OF_CONSUMMER[j])"
   ]
  },
  {
   "cell_type": "code",
   "execution_count": 17,
   "metadata": {},
   "outputs": [
    {
     "data": {
      "text/plain": [
       "10"
      ]
     },
     "execution_count": 17,
     "metadata": {},
     "output_type": "execute_result"
    }
   ],
   "source": [
    "solver.NumConstraints()"
   ]
  },
  {
   "cell_type": "markdown",
   "metadata": {},
   "source": [
    "# Definindo função objetivo"
   ]
  },
  {
   "cell_type": "code",
   "execution_count": 8,
   "metadata": {},
   "outputs": [],
   "source": [
    "objective_terms = []"
   ]
  },
  {
   "cell_type": "code",
   "execution_count": 9,
   "metadata": {},
   "outputs": [],
   "source": [
    "for i in range(NUMBER_OF_SUPPLIERS):\n",
    "  for j in range(NUMBER_OF_CONSUMMERS):\n",
    "    objective_terms.append(COST[i][j] * qtd[i][j])"
   ]
  },
  {
   "cell_type": "code",
   "execution_count": 10,
   "metadata": {},
   "outputs": [],
   "source": [
    "solver.Minimize(solver.Sum(objective_terms))"
   ]
  },
  {
   "cell_type": "code",
   "execution_count": 11,
   "metadata": {},
   "outputs": [],
   "source": [
    "status = solver.Solve()"
   ]
  },
  {
   "cell_type": "markdown",
   "metadata": {},
   "source": [
    "# Solução"
   ]
  },
  {
   "cell_type": "code",
   "execution_count": 12,
   "metadata": {},
   "outputs": [
    {
     "name": "stdout",
     "output_type": "stream",
     "text": [
      "Total cost = 832.43234225\n",
      "\n",
      "S_0 supply 10.0 to D_0. Cost: 113.15056759999999\n",
      "S_1 supply 10.0 to D_0. Cost: 189.4390962\n",
      "S_1 supply 5.0 to D_3. Cost: 8.1046116\n",
      "S_1 supply 5.0 to D_4. Cost: 23.79841045\n",
      "S_2 supply 10.0 to D_0. Cost: 234.0115226\n",
      "S_2 supply 10.0 to D_1. Cost: 63.7933757\n",
      "S_2 supply 10.0 to D_2. Cost: 72.14470440000001\n",
      "S_3 supply 15.0 to D_0. Cost: 117.50137785\n",
      "S_4 supply 5.0 to D_0. Cost: 10.48867585\n"
     ]
    }
   ],
   "source": [
    "if status == pywraplp.Solver.OPTIMAL or status == pywraplp.Solver.FEASIBLE:\n",
    "    print(f'Total cost = {solver.Objective().Value()}\\n')\n",
    "    for i in range(NUMBER_OF_SUPPLIERS):\n",
    "        for j in range(NUMBER_OF_CONSUMMERS):\n",
    "            if qtd[i][j].solution_value() > 0.0:\n",
    "                print(f'S_{i} supply {qtd[i][j].solution_value()} to D_{j}.' +\n",
    "                      f' Cost: {COST[i][j] * qtd[i][j].solution_value()}')\n",
    "else:\n",
    "    print('No solution found.')"
   ]
  },
  {
   "cell_type": "code",
   "execution_count": 16,
   "metadata": {},
   "outputs": [
    {
     "name": "stdout",
     "output_type": "stream",
     "text": [
      "\\ Generated by MPModelProtoExporter\n",
      "\\   Name             : \n",
      "\\   Format           : Free\n",
      "\\   Constraints      : 10\n",
      "\\   Variables        : 25\n",
      "\\     Binary         : 0\n",
      "\\     Integer        : 0\n",
      "\\     Continuous     : 25\n",
      "Minimize\n",
      " Obj: +11.3151 x_0_0 +18.7385 x_0_1 +8.88012 x_0_2 +7.843 x_0_3 +3.13427 x_0_4 +18.9439 x_1_0 +14.6528 x_1_1 +5.97266 x_1_2 +1.62092 x_1_3 +4.75968 x_1_4 +23.4012 x_2_0 +6.37934 x_2_1 +7.21447 x_2_2 +9.07527 x_2_3 +12.5311 x_2_4 +7.83343 x_3_0 +2.70091 x_3_1 +13.4462 x_3_2 +17.4264 x_3_3 +19.7796 x_3_4 +2.09774 x_4_0 +17.4933 x_4_1 +6.02854 x_4_2 +12.3715 x_4_3 +13.5623 x_4_4 \n",
      "Subject to\n",
      " auto_c_000000000: +1 x_0_0 +1 x_0_1 +1 x_0_2 +1 x_0_3 +1 x_0_4  <= 10\n",
      " auto_c_000000001: +1 x_1_0 +1 x_1_1 +1 x_1_2 +1 x_1_3 +1 x_1_4  <= 20\n",
      " auto_c_000000002: +1 x_2_0 +1 x_2_1 +1 x_2_2 +1 x_2_3 +1 x_2_4  <= 30\n",
      " auto_c_000000003: +1 x_3_0 +1 x_3_1 +1 x_3_2 +1 x_3_3 +1 x_3_4  <= 15\n",
      " auto_c_000000004: +1 x_4_0 +1 x_4_1 +1 x_4_2 +1 x_4_3 +1 x_4_4  <= 5\n",
      " auto_c_000000005: +1 x_0_0 +1 x_1_0 +1 x_2_0 +1 x_3_0 +1 x_4_0  >= 50\n",
      " auto_c_000000006: +1 x_0_1 +1 x_1_1 +1 x_2_1 +1 x_3_1 +1 x_4_1  >= 10\n",
      " auto_c_000000007: +1 x_0_2 +1 x_1_2 +1 x_2_2 +1 x_3_2 +1 x_4_2  >= 10\n",
      " auto_c_000000008: +1 x_0_3 +1 x_1_3 +1 x_2_3 +1 x_3_3 +1 x_4_3  >= 5\n",
      " auto_c_000000009: +1 x_0_4 +1 x_1_4 +1 x_2_4 +1 x_3_4 +1 x_4_4  >= 5\n",
      "Bounds\n",
      " 0 <= x_0_0\n",
      " 0 <= x_0_1\n",
      " 0 <= x_0_2\n",
      " 0 <= x_0_3\n",
      " 0 <= x_0_4\n",
      " 0 <= x_1_0\n",
      " 0 <= x_1_1\n",
      " 0 <= x_1_2\n",
      " 0 <= x_1_3\n",
      " 0 <= x_1_4\n",
      " 0 <= x_2_0\n",
      " 0 <= x_2_1\n",
      " 0 <= x_2_2\n",
      " 0 <= x_2_3\n",
      " 0 <= x_2_4\n",
      " 0 <= x_3_0\n",
      " 0 <= x_3_1\n",
      " 0 <= x_3_2\n",
      " 0 <= x_3_3\n",
      " 0 <= x_3_4\n",
      " 0 <= x_4_0\n",
      " 0 <= x_4_1\n",
      " 0 <= x_4_2\n",
      " 0 <= x_4_3\n",
      " 0 <= x_4_4\n",
      "End\n",
      "\n"
     ]
    }
   ],
   "source": [
    "print(solver.ExportModelAsLpFormat(False))"
   ]
  }
 ],
 "metadata": {
  "kernelspec": {
   "display_name": "Python 3.9.11 ('machine_learning')",
   "language": "python",
   "name": "python3"
  },
  "language_info": {
   "codemirror_mode": {
    "name": "ipython",
    "version": 3
   },
   "file_extension": ".py",
   "mimetype": "text/x-python",
   "name": "python",
   "nbconvert_exporter": "python",
   "pygments_lexer": "ipython3",
   "version": "3.9.11"
  },
  "orig_nbformat": 4,
  "vscode": {
   "interpreter": {
    "hash": "9ed5d1d1dfe9b2261c7a773d4a02e4cd4211327f910f2d56bd92bd353db7856e"
   }
  }
 },
 "nbformat": 4,
 "nbformat_minor": 2
}
