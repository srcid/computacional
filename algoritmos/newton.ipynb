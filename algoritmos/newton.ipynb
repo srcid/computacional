{
 "cells": [
  {
   "cell_type": "code",
   "execution_count": 1,
   "metadata": {},
   "outputs": [],
   "source": [
    "import numpy as np;"
   ]
  },
  {
   "cell_type": "code",
   "execution_count": 7,
   "metadata": {},
   "outputs": [],
   "source": [
    "def newton(interval,f,df,ddf, e = 10**-10, maxit = 10**5):\n",
    "  a, b = interval\n",
    "\n",
    "  # how to use ternary operator in python\n",
    "  # x = a if f(a)*ddf(a) > 0 else b \n",
    "  \n",
    "  if (f(a)*ddf(a) > 0):\n",
    "    x = a\n",
    "  else: # f(b)*ddf(b) > 0\n",
    "    x = b\n",
    "\n",
    "  for k in range(maxit):\n",
    "    xn = x - (f(x) / df(x))\n",
    "\n",
    "    if (abs(xn - x) <= e or f(xn) <= e):\n",
    "      print(f'atingiu a precisão em {k}')\n",
    "      return xn,k+1\n",
    "\n",
    "    x = xn\n",
    "  \n",
    "  return x,k+1\n"
   ]
  },
  {
   "cell_type": "code",
   "execution_count": 8,
   "metadata": {},
   "outputs": [
    {
     "name": "stdout",
     "output_type": "stream",
     "text": [
      "atingiu a precisão em 3\n"
     ]
    },
    {
     "data": {
      "text/plain": [
       "(0.33760895596580065, 4)"
      ]
     },
     "execution_count": 8,
     "metadata": {},
     "output_type": "execute_result"
    }
   ],
   "source": [
    "def f(x):\n",
    "  return x**3 - 9*x + 3\n",
    "\n",
    "def df(x):\n",
    "  return 3*(x**2) - 9\n",
    "\n",
    "def ddf(x):\n",
    "  return 6*x\n",
    "\n",
    "newton((0,1), f, df, ddf)"
   ]
  }
 ],
 "metadata": {
  "interpreter": {
   "hash": "9ed5d1d1dfe9b2261c7a773d4a02e4cd4211327f910f2d56bd92bd353db7856e"
  },
  "kernelspec": {
   "display_name": "Python 3.9.11 ('machine_learning')",
   "language": "python",
   "name": "python3"
  },
  "language_info": {
   "codemirror_mode": {
    "name": "ipython",
    "version": 3
   },
   "file_extension": ".py",
   "mimetype": "text/x-python",
   "name": "python",
   "nbconvert_exporter": "python",
   "pygments_lexer": "ipython3",
   "version": "3.9.11"
  },
  "orig_nbformat": 4
 },
 "nbformat": 4,
 "nbformat_minor": 2
}
