{
 "cells": [
  {
   "cell_type": "code",
   "execution_count": 2,
   "metadata": {},
   "outputs": [],
   "source": [
    "import numpy as np"
   ]
  },
  {
   "cell_type": "code",
   "execution_count": 3,
   "metadata": {},
   "outputs": [],
   "source": [
    "def biss_desc(f, interval, x, e = 10**-4, maxit = 10**5):\n",
    "  a, b = interval\n",
    "  \n",
    "  for i in range(0, maxit):\n",
    "    \n",
    "    if np.abs(b - a) <= e:\n",
    "      break\n",
    "\n",
    "    m = (a + b) / 2\n",
    "    fm = f(m)\n",
    "\n",
    "    print(\"{:20} {:20} {:20} {:20} {:20}\".format(a,b,m,fm,fm < x))\n",
    "    \n",
    "    if fm < x:\n",
    "      b = m\n",
    "    elif fm > x:\n",
    "      a = m\n",
    "    else:\n",
    "      break\n",
    "  \n",
    "  return m, i-1"
   ]
  },
  {
   "cell_type": "code",
   "execution_count": 4,
   "metadata": {},
   "outputs": [],
   "source": [
    "def biss_cres(f, interval, x, e = 10**-4, maxit = 10**5):\n",
    "  a, b = interval\n",
    "  \n",
    "  for i in range(0, maxit):\n",
    "    \n",
    "    if np.abs(b - a) <= e:\n",
    "      break\n",
    "\n",
    "    m = (a + b) / 2\n",
    "    fm = f(m)\n",
    "\n",
    "    print(\"{:20} {:20} {:20} {:20} {:20}\".format(a,b,m,fm,fm < x))\n",
    "    \n",
    "    if fm > x:\n",
    "      b = m\n",
    "    elif fm < x:\n",
    "      a = m\n",
    "    else:\n",
    "      break\n",
    "  \n",
    "  return m, i-1"
   ]
  },
  {
   "cell_type": "code",
   "execution_count": 13,
   "metadata": {},
   "outputs": [
    {
     "name": "stdout",
     "output_type": "stream",
     "text": [
      "                 0.4                  0.6                  0.5   0.6847499999999999                    0\n",
      "                 0.5                  0.6                 0.55   0.6356874999999996                    0\n",
      "                0.55                  0.6                0.575   0.5970468749999999                    1\n",
      "                0.55                0.575               0.5625   0.6175429687500001                    0\n",
      "              0.5625                0.575              0.56875   0.6075888671874999                    0\n",
      "             0.56875                0.575   0.5718749999999999   0.6023913574218752                    0\n",
      "  0.5718749999999999                0.575   0.5734374999999999    0.599737487792969                    1\n",
      "  0.5718749999999999   0.5734374999999999   0.5726562499999999   0.6010690155029296                    0\n",
      "  0.5726562499999999   0.5734374999999999          0.573046875   0.6004043998718261                    0\n",
      "         0.573046875   0.5734374999999999         0.5732421875   0.6000712308883666                    0\n",
      "        0.5732421875   0.5734374999999999   0.5733398437499999   0.5999044311046601                    1\n"
     ]
    },
    {
     "data": {
      "text/plain": [
       "(0.5733398437499999, 10)"
      ]
     },
     "execution_count": 13,
     "metadata": {},
     "output_type": "execute_result"
    }
   ],
   "source": [
    "biss_desc(lambda w: -7.525*(w**2) + 6.92*w - 0.894, (0.4, 0.6), 0.6)"
   ]
  },
  {
   "cell_type": "code",
   "execution_count": 8,
   "metadata": {},
   "outputs": [
    {
     "name": "stdout",
     "output_type": "stream",
     "text": [
      "                 1.7                  1.8                 1.75   0.6579312500000007                    0\n",
      "                 1.7                 1.75                1.725   0.6059533125000023                    0\n",
      "                 1.7                1.725               1.7125    0.582229953125001                    0\n",
      "                 1.7               1.7125   1.7062499999999998    0.570934675781249                    1\n",
      "  1.7062499999999998               1.7125   1.7093749999999999   0.5765351142578155                    0\n",
      "  1.7062499999999998   1.7093749999999999   1.7078124999999997   0.5737230949707044                    0\n",
      "  1.7062499999999998   1.7078124999999997   1.7070312499999998   0.5723259353637697                    1\n",
      "  1.7070312499999998   1.7078124999999997   1.7074218749999996   0.5730237776641864                    1\n",
      "  1.7074218749999996   1.7078124999999997   1.7076171874999997   0.5733732519416819                    0\n",
      "  1.7074218749999996   1.7076171874999997   1.7075195312499996    0.573198468708993                    1\n",
      "  1.7075195312499996   1.7076171874999997   1.7075683593749997    0.573285848801854                    1\n",
      "  1.7075683593749997   1.7076171874999997   1.7075927734374998   0.5733295474908946                    0\n",
      "  1.7075683593749997   1.7075927734374998   1.7075805664062498   0.5733076974261557                    0\n",
      "  1.7075683593749997   1.7075805664062498   1.7075744628906246   0.5732967729339506                    1\n"
     ]
    },
    {
     "data": {
      "text/plain": [
       "(1.7075744628906246, 13)"
      ]
     },
     "execution_count": 8,
     "metadata": {},
     "output_type": "execute_result"
    }
   ],
   "source": [
    "biss_cres(lambda x: 4.8333*(x**2) - 14.7166*x + 11.61, (1.7,1.8), 0.5733, 10**-5)"
   ]
  }
 ],
 "metadata": {
  "interpreter": {
   "hash": "9ed5d1d1dfe9b2261c7a773d4a02e4cd4211327f910f2d56bd92bd353db7856e"
  },
  "kernelspec": {
   "display_name": "Python 3.9.11 ('machine_learning')",
   "language": "python",
   "name": "python3"
  },
  "language_info": {
   "codemirror_mode": {
    "name": "ipython",
    "version": 3
   },
   "file_extension": ".py",
   "mimetype": "text/x-python",
   "name": "python",
   "nbconvert_exporter": "python",
   "pygments_lexer": "ipython3",
   "version": "3.9.11"
  },
  "orig_nbformat": 4
 },
 "nbformat": 4,
 "nbformat_minor": 2
}
