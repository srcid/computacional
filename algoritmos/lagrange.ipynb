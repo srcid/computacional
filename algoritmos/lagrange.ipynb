{
 "cells": [
  {
   "cell_type": "code",
   "execution_count": 1,
   "metadata": {},
   "outputs": [],
   "source": [
    "import numpy as np"
   ]
  },
  {
   "cell_type": "code",
   "execution_count": 23,
   "metadata": {},
   "outputs": [],
   "source": [
    "def lagrange(p, x):\n",
    "  acc = np.float128(0)\n",
    "  size = len(p)\n",
    "  for i in range(size):\n",
    "    mtp = p[i].y\n",
    "    for j in range(size):\n",
    "      if (j != i):\n",
    "        mtp = mtp * (x - p[j].x) / (p[i].x - p[j].x)\n",
    "    acc = acc + mtp\n",
    "  return acc"
   ]
  },
  {
   "cell_type": "code",
   "execution_count": 10,
   "metadata": {},
   "outputs": [],
   "source": [
    "class Point:\n",
    "  x: np.float128\n",
    "  y: np.float128\n",
    "  \n",
    "  def __init__(self, x, y):\n",
    "    self.x = x\n",
    "    self.y = y"
   ]
  },
  {
   "cell_type": "code",
   "execution_count": 14,
   "metadata": {},
   "outputs": [],
   "source": [
    "p = [Point(0,1),Point(0.2,1.2408),Point(0.4,1.5735),Point(0.6,2.0333),Point(0.8,2.6965),Point(1,3.7183)]"
   ]
  },
  {
   "cell_type": "code",
   "execution_count": 38,
   "metadata": {},
   "outputs": [
    {
     "data": {
      "text/plain": [
       "3.0000442396934094876"
      ]
     },
     "execution_count": 38,
     "metadata": {},
     "output_type": "execute_result"
    }
   ],
   "source": [
    "lagrange(p, 0.86953)"
   ]
  }
 ],
 "metadata": {
  "interpreter": {
   "hash": "9ed5d1d1dfe9b2261c7a773d4a02e4cd4211327f910f2d56bd92bd353db7856e"
  },
  "kernelspec": {
   "display_name": "Python 3.9.11 ('machine_learning')",
   "language": "python",
   "name": "python3"
  },
  "language_info": {
   "codemirror_mode": {
    "name": "ipython",
    "version": 3
   },
   "file_extension": ".py",
   "mimetype": "text/x-python",
   "name": "python",
   "nbconvert_exporter": "python",
   "pygments_lexer": "ipython3",
   "version": "3.9.11"
  },
  "orig_nbformat": 4
 },
 "nbformat": 4,
 "nbformat_minor": 2
}
