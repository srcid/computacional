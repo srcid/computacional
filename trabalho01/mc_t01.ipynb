{
  "cells": [
    {
      "cell_type": "code",
      "execution_count": 1,
      "metadata": {
        "id": "nQvO5peCxQ9H"
      },
      "outputs": [],
      "source": [
        "import numpy as np\n",
        "import pandas as pd"
      ]
    },
    {
      "cell_type": "markdown",
      "metadata": {
        "id": "UQ7tcfBzxWv6"
      },
      "source": [
        "# Questão 01"
      ]
    },
    {
      "cell_type": "markdown",
      "metadata": {
        "id": "qwpLgKWcq94_"
      },
      "source": [
        "## Resolver matriz triangular"
      ]
    },
    {
      "cell_type": "code",
      "execution_count": 2,
      "metadata": {
        "id": "eaIa3slzgMlY"
      },
      "outputs": [],
      "source": [
        "def resolve_tri_inf(m):\n",
        "  N = len(m)\n",
        "  x = np.zeros(N, dtype=np.float128)\n",
        "\n",
        "  for i in reversed(range(0,N)):\n",
        "    x[i] = (m[i,-1:] - (m[i,i+1:-1] * x[i+1:]).sum()) / m[i,i]\n",
        "\n",
        "  return x"
      ]
    },
    {
      "cell_type": "markdown",
      "metadata": {
        "id": "_dvLxOp2xc9p"
      },
      "source": [
        "## Eliminação de Gauss"
      ]
    },
    {
      "cell_type": "code",
      "execution_count": 3,
      "metadata": {
        "id": "ZOhqjGr3xhiU"
      },
      "outputs": [],
      "source": [
        "def eliminacao(m, N):\n",
        "  for i in range(0, N):\n",
        "    p = m[i][i]\n",
        "    for j in range(i+1, N):\n",
        "      mlt = -1 * (m[j][i] / p)\n",
        "      m[j] = mlt * m[i] + m[j]\n",
        "  \n",
        "  return resolve_tri_inf(m), N-1"
      ]
    },
    {
      "cell_type": "markdown",
      "metadata": {
        "id": "JH3lpL051DXs"
      },
      "source": [
        "## Eliminação com pivoteamento parcial"
      ]
    },
    {
      "cell_type": "code",
      "execution_count": 4,
      "metadata": {
        "id": "i-TAMxb11Jcm"
      },
      "outputs": [],
      "source": [
        "def eliminacao_p(m, N):\n",
        "  for i in range(0, N):\n",
        "    p_i = np.argmax(np.abs(m[i:,i])) + i\n",
        "    m[[i, p_i]] = m[[p_i, i]]\n",
        "    p = m[i][i]\n",
        "\n",
        "    # Se p for zero, o que está abaixo do pivô já está zerado\n",
        "    if p != 0:\n",
        "      for j in range(i+1, N):\n",
        "        mlt = -1 * (m[j][i] / p)\n",
        "        m[j] = mlt * m[i] + m[j]\n",
        "    \n",
        "  return resolve_tri_inf(m), N-1"
      ]
    },
    {
      "cell_type": "markdown",
      "metadata": {
        "id": "f1IfzGLRx4in"
      },
      "source": [
        "## Teste de convergência"
      ]
    },
    {
      "cell_type": "code",
      "execution_count": 5,
      "metadata": {
        "id": "bPQWw1Z-x8Mw"
      },
      "outputs": [],
      "source": [
        "def eh_diagonal_dominante(m,N):\n",
        "  for i in range(0,N):\n",
        "    if np.abs(m[i][i]) < np.abs(np.delete(m[i,:N], i)).sum():\n",
        "      return False\n",
        "  return True\n",
        "\n",
        "def criterio_das_linhas(m, N):\n",
        "  a = []\n",
        "  for i in range(0,N):\n",
        "    a.append( (np.abs(np.delete(m[i], i)) / np.abs(m[i][i])).sum() )\n",
        "    \n",
        "  return 0 <= max(a) <= 1\n",
        "\n",
        "def converge(m, N):\n",
        "  return eh_diagonal_dominante(m,N) or criterio_das_linhas(m, N)"
      ]
    },
    {
      "cell_type": "markdown",
      "metadata": {
        "id": "9TZhWg5K_HOb"
      },
      "source": [
        "## Método de Jacobi"
      ]
    },
    {
      "cell_type": "code",
      "execution_count": 6,
      "metadata": {
        "id": "TFFnwb3BCa6n"
      },
      "outputs": [],
      "source": [
        "def jacobi(m, b, e = 10**-4, maxit = 10**5):\n",
        "  N = len(m)\n",
        "  D = m.diagonal()\n",
        "  m = m - np.diagflat(D)\n",
        "  x = np.zeros(N, dtype=np.float128)\n",
        "  x_k = np.zeros(N, dtype=np.float128)\n",
        "\n",
        "  for i in range(0, maxit):\n",
        "    x_k = (b - np.dot(m, x)) / D\n",
        "\n",
        "    if (np.abs(x_k - x).max() <= e):\n",
        "      break\n",
        "    \n",
        "    x = x_k\n",
        "\n",
        "  return x_k, i"
      ]
    },
    {
      "cell_type": "markdown",
      "metadata": {
        "id": "jZzl1nTeNsdH"
      },
      "source": [
        "## Método de Gauss-Seidel"
      ]
    },
    {
      "cell_type": "code",
      "execution_count": 7,
      "metadata": {
        "id": "BjlHZz3gNrIc"
      },
      "outputs": [],
      "source": [
        "def gauss_seidel(m, b, e = 10**-4, maxit = 10**5):\n",
        "  N = len(m)\n",
        "  D = m.diagonal()\n",
        "  m = m - np.diagflat(D)\n",
        "  x = np.zeros(N, dtype=np.float128)\n",
        "  x_k = np.zeros(N, dtype=np.float128)\n",
        "\n",
        "  for i in range(0, maxit):\n",
        "    x_copy = x.copy()\n",
        "\n",
        "    for j in range(0, N):\n",
        "      x_k[j] = (b[j] - (m[j] * x).sum()) / D[j]\n",
        "      x[j] = x_k[j]\n",
        "\n",
        "    if (np.abs(x_k - x_copy).max() <= e):\n",
        "      break\n",
        "    \n",
        "    x = x_k\n",
        "\n",
        "  return x_k, i"
      ]
    },
    {
      "cell_type": "markdown",
      "metadata": {
        "id": "JsOCLhnxyKK9"
      },
      "source": [
        "# Questão 02: Comparar as soluções para os métodos implementados acima"
      ]
    },
    {
      "cell_type": "code",
      "execution_count": 8,
      "metadata": {
        "id": "xc7c1LaXydGv"
      },
      "outputs": [],
      "source": [
        "matrizes = [\n",
        "    np.array([\n",
        "      [10,1,1,12],\n",
        "      [1,10,1,12],\n",
        "      [1,1,10,12]\n",
        "    ], dtype=np.float128),\n",
        "    np.array([\n",
        "      [4,-1,0,0,1],\n",
        "      [-1,4,-1,0,1],\n",
        "      [0,-1,4,-1,1],\n",
        "      [0,0,-1,4,1]\n",
        "    ], dtype=np.float128),\n",
        "    np.array([\n",
        "      [10,1,-1,10],\n",
        "      [2,10,8,20],\n",
        "      [7,1,10,30]\n",
        "    ], dtype=np.float128),\n",
        "    np.array([\n",
        "      [5,1,1,5],\n",
        "      [3,4,1,6],\n",
        "      [3,3,6,0]\n",
        "    ], dtype=np.float128)\n",
        "  ]\n",
        "\n",
        "eliminacao_sol = {}\n",
        "eliminacao_it = {}\n",
        "jacobi_sol = {}\n",
        "jacobi_it = {}\n",
        "gauss_seidel_sol = {}\n",
        "gauss_seidel_it = {}\n",
        "\n",
        "for i in range(0, len(matrizes)):\n",
        "  m = matrizes[i]\n",
        "  \n",
        "  vals, nit = eliminacao_p(m.copy(), len(m))\n",
        "\n",
        "  eliminacao_sol[f'{i}º sistema'] = vals\n",
        "  eliminacao_it[f'{i}º sistema'] = nit\n",
        "  \n",
        "  if converge(m, len(m)):\n",
        "    vals, nit = jacobi(m.copy()[:,:-1], m.copy()[:,-1:].flatten())\n",
        "    jacobi_sol[f'{i}º sistema'] = vals\n",
        "    jacobi_it[f'{i}º sistema'] =  nit\n",
        "\n",
        "    vals, nit = gauss_seidel(m.copy()[:,:-1], m.copy()[:,-1:].flatten())\n",
        "    gauss_seidel_sol[f'{i}º sistema'] = vals\n",
        "    gauss_seidel_it[f'{i}º sistema'] = nit\n",
        "  else:\n",
        "    print('O sistema não tem garantias de convergência.')"
      ]
    },
    {
      "cell_type": "code",
      "execution_count": 9,
      "metadata": {
        "colab": {
          "base_uri": "https://localhost:8080/",
          "height": 174
        },
        "id": "MW_C6c9cscVA",
        "outputId": "7a5d74f4-f0d5-4394-b621-171a4909ec31"
      },
      "outputs": [],
      "source": [
        "res_vals = {\n",
        "  'eliminação': eliminacao_sol,\n",
        "  'jacobi': jacobi_sol,\n",
        "  'gauss-seidel': gauss_seidel_sol\n",
        "}\n",
        "\n",
        "res_its = {\n",
        "  'eliminação': eliminacao_it,\n",
        "  'jacobi': jacobi_it,\n",
        "  'gauss-seidel': gauss_seidel_it \n",
        "}\n",
        "\n",
        "df_res = pd.DataFrame.from_dict(res_vals)\n",
        "df_its = pd.DataFrame.from_dict(res_its)"
      ]
    },
    {
      "cell_type": "markdown",
      "metadata": {},
      "source": [
        "### Valores encontrados"
      ]
    },
    {
      "cell_type": "code",
      "execution_count": 10,
      "metadata": {},
      "outputs": [
        {
          "data": {
            "text/html": [
              "<div>\n",
              "<style scoped>\n",
              "    .dataframe tbody tr th:only-of-type {\n",
              "        vertical-align: middle;\n",
              "    }\n",
              "\n",
              "    .dataframe tbody tr th {\n",
              "        vertical-align: top;\n",
              "    }\n",
              "\n",
              "    .dataframe thead th {\n",
              "        text-align: right;\n",
              "    }\n",
              "</style>\n",
              "<table border=\"1\" class=\"dataframe\">\n",
              "  <thead>\n",
              "    <tr style=\"text-align: right;\">\n",
              "      <th></th>\n",
              "      <th>eliminação</th>\n",
              "      <th>jacobi</th>\n",
              "      <th>gauss-seidel</th>\n",
              "    </tr>\n",
              "  </thead>\n",
              "  <tbody>\n",
              "    <tr>\n",
              "      <th>0º sistema</th>\n",
              "      <td>[1.0, 1.0, 1.0]</td>\n",
              "      <td>[1.0000128, 1.0000128, 1.0000128]</td>\n",
              "      <td>[1.00000021, 0.9999999, 0.99999999]</td>\n",
              "    </tr>\n",
              "    <tr>\n",
              "      <th>1º sistema</th>\n",
              "      <td>[0.36363636, 0.45454545, 0.45454545, 0.36363636]</td>\n",
              "      <td>[0.36360073, 0.4544878, 0.4544878, 0.36360073]</td>\n",
              "      <td>[0.36362858, 0.45454036, 0.45454339, 0.36363585]</td>\n",
              "    </tr>\n",
              "    <tr>\n",
              "      <th>2º sistema</th>\n",
              "      <td>[1.2109375, 0.0390625, 2.1484375]</td>\n",
              "      <td>[1.21093869, 0.03909297, 2.14844817]</td>\n",
              "      <td>[1.21093949, 0.03907669, 2.14843469]</td>\n",
              "    </tr>\n",
              "    <tr>\n",
              "      <th>3º sistema</th>\n",
              "      <td>[1.0, 1.0, -1.0]</td>\n",
              "      <td>[0.99998241, 0.99997006, -1.00003313]</td>\n",
              "      <td>[1.00000731, 0.99999772, -1.00000252]</td>\n",
              "    </tr>\n",
              "  </tbody>\n",
              "</table>\n",
              "</div>"
            ],
            "text/plain": [
              "                                                  eliminação  \\\n",
              "0º sistema                                   [1.0, 1.0, 1.0]   \n",
              "1º sistema  [0.36363636, 0.45454545, 0.45454545, 0.36363636]   \n",
              "2º sistema                 [1.2109375, 0.0390625, 2.1484375]   \n",
              "3º sistema                                  [1.0, 1.0, -1.0]   \n",
              "\n",
              "                                                    jacobi  \\\n",
              "0º sistema               [1.0000128, 1.0000128, 1.0000128]   \n",
              "1º sistema  [0.36360073, 0.4544878, 0.4544878, 0.36360073]   \n",
              "2º sistema            [1.21093869, 0.03909297, 2.14844817]   \n",
              "3º sistema           [0.99998241, 0.99997006, -1.00003313]   \n",
              "\n",
              "                                                gauss-seidel  \n",
              "0º sistema               [1.00000021, 0.9999999, 0.99999999]  \n",
              "1º sistema  [0.36362858, 0.45454036, 0.45454339, 0.36363585]  \n",
              "2º sistema              [1.21093949, 0.03907669, 2.14843469]  \n",
              "3º sistema             [1.00000731, 0.99999772, -1.00000252]  "
            ]
          },
          "execution_count": 10,
          "metadata": {},
          "output_type": "execute_result"
        }
      ],
      "source": [
        "df_res.applymap(lambda x: np.round(x, 8))"
      ]
    },
    {
      "cell_type": "markdown",
      "metadata": {},
      "source": [
        "### Passos de cada métodos"
      ]
    },
    {
      "cell_type": "code",
      "execution_count": 11,
      "metadata": {},
      "outputs": [
        {
          "data": {
            "text/html": [
              "<div>\n",
              "<style scoped>\n",
              "    .dataframe tbody tr th:only-of-type {\n",
              "        vertical-align: middle;\n",
              "    }\n",
              "\n",
              "    .dataframe tbody tr th {\n",
              "        vertical-align: top;\n",
              "    }\n",
              "\n",
              "    .dataframe thead th {\n",
              "        text-align: right;\n",
              "    }\n",
              "</style>\n",
              "<table border=\"1\" class=\"dataframe\">\n",
              "  <thead>\n",
              "    <tr style=\"text-align: right;\">\n",
              "      <th></th>\n",
              "      <th>eliminação</th>\n",
              "      <th>jacobi</th>\n",
              "      <th>gauss-seidel</th>\n",
              "    </tr>\n",
              "  </thead>\n",
              "  <tbody>\n",
              "    <tr>\n",
              "      <th>0º sistema</th>\n",
              "      <td>2</td>\n",
              "      <td>6</td>\n",
              "      <td>4</td>\n",
              "    </tr>\n",
              "    <tr>\n",
              "      <th>1º sistema</th>\n",
              "      <td>3</td>\n",
              "      <td>9</td>\n",
              "      <td>6</td>\n",
              "    </tr>\n",
              "    <tr>\n",
              "      <th>2º sistema</th>\n",
              "      <td>2</td>\n",
              "      <td>12</td>\n",
              "      <td>8</td>\n",
              "    </tr>\n",
              "    <tr>\n",
              "      <th>3º sistema</th>\n",
              "      <td>2</td>\n",
              "      <td>29</td>\n",
              "      <td>6</td>\n",
              "    </tr>\n",
              "  </tbody>\n",
              "</table>\n",
              "</div>"
            ],
            "text/plain": [
              "            eliminação  jacobi  gauss-seidel\n",
              "0º sistema           2       6             4\n",
              "1º sistema           3       9             6\n",
              "2º sistema           2      12             8\n",
              "3º sistema           2      29             6"
            ]
          },
          "execution_count": 11,
          "metadata": {},
          "output_type": "execute_result"
        }
      ],
      "source": [
        "df_its"
      ]
    },
    {
      "cell_type": "code",
      "execution_count": 23,
      "metadata": {},
      "outputs": [
        {
          "data": {
            "text/plain": [
              "<AxesSubplot:>"
            ]
          },
          "execution_count": 23,
          "metadata": {},
          "output_type": "execute_result"
        },
        {
          "data": {
            "image/png": "[encoded data removed]",
            "text/plain": [
              "<Figure size 1080x360 with 1 Axes>"
            ]
          },
          "metadata": {
            "needs_background": "light"
          },
          "output_type": "display_data"
        }
      ],
      "source": [
        "df_its.plot(kind='bar', figsize=(15,5))"
      ]
    },
    {
      "cell_type": "markdown",
      "metadata": {
        "id": "TFmzF3-QK26u"
      },
      "source": [
        "# Questão 03"
      ]
    },
    {
      "cell_type": "markdown",
      "metadata": {
        "id": "nd6qOy3CPr2K"
      },
      "source": [
        "## Método da bisseção"
      ]
    },
    {
      "cell_type": "code",
      "execution_count": 12,
      "metadata": {
        "id": "rheM8kBgK6TH"
      },
      "outputs": [],
      "source": [
        "def biss(f, interval, e = 10**-4, maxit = 10**5):\n",
        "  a, b = interval\n",
        "  \n",
        "  for i in range(0, maxit):\n",
        "    \n",
        "    if np.abs(b - a) <= e:\n",
        "      break\n",
        "\n",
        "    m = (a + b) / 2\n",
        "    \n",
        "    if np.sign(f(a)) == np.sign(f(m)):\n",
        "      a = m\n",
        "    else:\n",
        "      b = m\n",
        "  \n",
        "  return m, i-1"
      ]
    },
    {
      "cell_type": "markdown",
      "metadata": {
        "id": "U3kXV2oYPvwZ"
      },
      "source": [
        "## Método da falsa posição"
      ]
    },
    {
      "cell_type": "code",
      "execution_count": 13,
      "metadata": {
        "id": "A-m1tV3Yd2zj"
      },
      "outputs": [],
      "source": [
        "def falsa_pos(f, interval, e = 10**-4, maxit = 10**5):\n",
        "  a, b = interval\n",
        "\n",
        "  for i in range(0,maxit):\n",
        "    \n",
        "    if np.abs(b - a) <= e:\n",
        "      break\n",
        "    \n",
        "    x_k = (b*f(a) - a*f(b)) / (f(a) - f(b))\n",
        "\n",
        "    if np.sign(f(a)) == np.sign(f(x_k)):\n",
        "      a = x_k\n",
        "    else:\n",
        "      b = x_k\n",
        "\n",
        "  return x_k, i-1"
      ]
    },
    {
      "cell_type": "markdown",
      "metadata": {
        "id": "VBGle8G8PypN"
      },
      "source": [
        "## Método de Pégaso"
      ]
    },
    {
      "cell_type": "code",
      "execution_count": 14,
      "metadata": {
        "id": "T837yzyAjJ2b"
      },
      "outputs": [],
      "source": [
        "def pegaso(f, interval, e = 10**-4, maxit = 10**2):\n",
        "  a, b = interval\n",
        "\n",
        "  for i in range(0, maxit):\n",
        "\n",
        "    if np.abs(b - a) <= e:\n",
        "      break\n",
        "\n",
        "    c = b - ( (f(b)*(b - a)) / (f(b) - f(a)) )\n",
        "\n",
        "    if f(a) * f(c) < 0:\n",
        "      a = c\n",
        "    else:\n",
        "      b = c\n",
        "\n",
        "  return c, i-1"
      ]
    },
    {
      "cell_type": "code",
      "execution_count": 36,
      "metadata": {
        "id": "EXWz7ZY8tGue"
      },
      "outputs": [],
      "source": [
        "res = {}\n",
        "res_it = {}\n",
        "\n",
        "funcs = [\n",
        "  (lambda x: x**5 -(3*(x**4)) -(3*(x**2)) + 2, 2**(-5)),\n",
        "  (lambda x: x**(1/2) -(5**(-x)), 10**(-3)),\n",
        "  (lambda x: x**5 -(x**4) -(4*x) + 1, 0.01),\n",
        "  (lambda x: 0.05*(x**3) -(0.4*(x**2)) + 3*x*np.sin(x), 0.005)\n",
        "]\n",
        "\n",
        "i = 0\n",
        "for f, e in funcs:\n",
        "  vals_its = list(biss(f, (0,1), e)) + list(falsa_pos(f, (0,1), e)) + list(pegaso(f, (0,1), e))\n",
        "  res[f'função {i}'] = vals_its[::2]\n",
        "  res_it[f'função {i}'] = vals_its[1::2]\n",
        "  i = i+1\n",
        "\n",
        "df_res = pd.DataFrame.from_dict(res, orient='index', columns=['bisseção', 'falsa-posição', 'pegaso'])\n",
        "df_res_it = pd.DataFrame.from_dict(res_it, orient='index', columns=['bisseção', 'falsa-posição', 'pegaso'])"
      ]
    },
    {
      "cell_type": "markdown",
      "metadata": {},
      "source": [
        "### Raizes encontradas"
      ]
    },
    {
      "cell_type": "code",
      "execution_count": 37,
      "metadata": {
        "colab": {
          "base_uri": "https://localhost:8080/",
          "height": 174
        },
        "id": "RMzkm_tMxOKk",
        "outputId": "67f356c2-ce61-4864-b124-b08ae7ae7459"
      },
      "outputs": [
        {
          "data": {
            "text/html": [
              "<div>\n",
              "<style scoped>\n",
              "    .dataframe tbody tr th:only-of-type {\n",
              "        vertical-align: middle;\n",
              "    }\n",
              "\n",
              "    .dataframe tbody tr th {\n",
              "        vertical-align: top;\n",
              "    }\n",
              "\n",
              "    .dataframe thead th {\n",
              "        text-align: right;\n",
              "    }\n",
              "</style>\n",
              "<table border=\"1\" class=\"dataframe\">\n",
              "  <thead>\n",
              "    <tr style=\"text-align: right;\">\n",
              "      <th></th>\n",
              "      <th>bisseção</th>\n",
              "      <th>falsa-posição</th>\n",
              "      <th>pegaso</th>\n",
              "    </tr>\n",
              "  </thead>\n",
              "  <tbody>\n",
              "    <tr>\n",
              "      <th>função 0</th>\n",
              "      <td>0.718750</td>\n",
              "      <td>0.696864</td>\n",
              "      <td>0.696864</td>\n",
              "    </tr>\n",
              "    <tr>\n",
              "      <th>função 1</th>\n",
              "      <td>0.336914</td>\n",
              "      <td>0.337471</td>\n",
              "      <td>0.337471</td>\n",
              "    </tr>\n",
              "    <tr>\n",
              "      <th>função 2</th>\n",
              "      <td>0.242188</td>\n",
              "      <td>0.249270</td>\n",
              "      <td>0.249275</td>\n",
              "    </tr>\n",
              "    <tr>\n",
              "      <th>função 3</th>\n",
              "      <td>0.003906</td>\n",
              "      <td>-0.000000</td>\n",
              "      <td>0.000000</td>\n",
              "    </tr>\n",
              "  </tbody>\n",
              "</table>\n",
              "</div>"
            ],
            "text/plain": [
              "          bisseção  falsa-posição    pegaso\n",
              "função 0  0.718750       0.696864  0.696864\n",
              "função 1  0.336914       0.337471  0.337471\n",
              "função 2  0.242188       0.249270  0.249275\n",
              "função 3  0.003906      -0.000000  0.000000"
            ]
          },
          "execution_count": 37,
          "metadata": {},
          "output_type": "execute_result"
        }
      ],
      "source": [
        "df_res"
      ]
    },
    {
      "cell_type": "markdown",
      "metadata": {},
      "source": [
        "### Número de passos"
      ]
    },
    {
      "cell_type": "code",
      "execution_count": 38,
      "metadata": {},
      "outputs": [
        {
          "data": {
            "text/html": [
              "<div>\n",
              "<style scoped>\n",
              "    .dataframe tbody tr th:only-of-type {\n",
              "        vertical-align: middle;\n",
              "    }\n",
              "\n",
              "    .dataframe tbody tr th {\n",
              "        vertical-align: top;\n",
              "    }\n",
              "\n",
              "    .dataframe thead th {\n",
              "        text-align: right;\n",
              "    }\n",
              "</style>\n",
              "<table border=\"1\" class=\"dataframe\">\n",
              "  <thead>\n",
              "    <tr style=\"text-align: right;\">\n",
              "      <th></th>\n",
              "      <th>bisseção</th>\n",
              "      <th>falsa-posição</th>\n",
              "      <th>pegaso</th>\n",
              "    </tr>\n",
              "  </thead>\n",
              "  <tbody>\n",
              "    <tr>\n",
              "      <th>função 0</th>\n",
              "      <td>4</td>\n",
              "      <td>99998</td>\n",
              "      <td>98</td>\n",
              "    </tr>\n",
              "    <tr>\n",
              "      <th>função 1</th>\n",
              "      <td>9</td>\n",
              "      <td>99998</td>\n",
              "      <td>50</td>\n",
              "    </tr>\n",
              "    <tr>\n",
              "      <th>função 2</th>\n",
              "      <td>6</td>\n",
              "      <td>1</td>\n",
              "      <td>7</td>\n",
              "    </tr>\n",
              "    <tr>\n",
              "      <th>função 3</th>\n",
              "      <td>7</td>\n",
              "      <td>99998</td>\n",
              "      <td>0</td>\n",
              "    </tr>\n",
              "  </tbody>\n",
              "</table>\n",
              "</div>"
            ],
            "text/plain": [
              "          bisseção  falsa-posição  pegaso\n",
              "função 0         4          99998      98\n",
              "função 1         9          99998      50\n",
              "função 2         6              1       7\n",
              "função 3         7          99998       0"
            ]
          },
          "execution_count": 38,
          "metadata": {},
          "output_type": "execute_result"
        }
      ],
      "source": [
        "df_res_it"
      ]
    },
    {
      "cell_type": "markdown",
      "metadata": {},
      "source": [
        "#### Para visualizarmos os dados é necessário que os normalizemos devido a existência de valores discrepantes"
      ]
    },
    {
      "cell_type": "code",
      "execution_count": 42,
      "metadata": {},
      "outputs": [
        {
          "data": {
            "text/html": [
              "<div>\n",
              "<style scoped>\n",
              "    .dataframe tbody tr th:only-of-type {\n",
              "        vertical-align: middle;\n",
              "    }\n",
              "\n",
              "    .dataframe tbody tr th {\n",
              "        vertical-align: top;\n",
              "    }\n",
              "\n",
              "    .dataframe thead th {\n",
              "        text-align: right;\n",
              "    }\n",
              "</style>\n",
              "<table border=\"1\" class=\"dataframe\">\n",
              "  <thead>\n",
              "    <tr style=\"text-align: right;\">\n",
              "      <th></th>\n",
              "      <th>bisseção</th>\n",
              "      <th>falsa-posição</th>\n",
              "      <th>pegaso</th>\n",
              "    </tr>\n",
              "  </thead>\n",
              "  <tbody>\n",
              "    <tr>\n",
              "      <th>função 0</th>\n",
              "      <td>-1.200961</td>\n",
              "      <td>0.5</td>\n",
              "      <td>1.308959</td>\n",
              "    </tr>\n",
              "    <tr>\n",
              "      <th>função 1</th>\n",
              "      <td>1.200961</td>\n",
              "      <td>0.5</td>\n",
              "      <td>0.248537</td>\n",
              "    </tr>\n",
              "    <tr>\n",
              "      <th>função 2</th>\n",
              "      <td>-0.240192</td>\n",
              "      <td>-1.5</td>\n",
              "      <td>-0.701426</td>\n",
              "    </tr>\n",
              "    <tr>\n",
              "      <th>função 3</th>\n",
              "      <td>0.240192</td>\n",
              "      <td>0.5</td>\n",
              "      <td>-0.856071</td>\n",
              "    </tr>\n",
              "  </tbody>\n",
              "</table>\n",
              "</div>"
            ],
            "text/plain": [
              "          bisseção  falsa-posição    pegaso\n",
              "função 0 -1.200961            0.5  1.308959\n",
              "função 1  1.200961            0.5  0.248537\n",
              "função 2 -0.240192           -1.5 -0.701426\n",
              "função 3  0.240192            0.5 -0.856071"
            ]
          },
          "execution_count": 42,
          "metadata": {},
          "output_type": "execute_result"
        }
      ],
      "source": [
        "df_res_it_std = (df_res_it - df_res_it.mean()) / df_res_it.std()\n",
        "df_res_it_std"
      ]
    },
    {
      "cell_type": "code",
      "execution_count": 43,
      "metadata": {},
      "outputs": [
        {
          "data": {
            "text/plain": [
              "<AxesSubplot:>"
            ]
          },
          "execution_count": 43,
          "metadata": {},
          "output_type": "execute_result"
        },
        {
          "data": {
            "image/png": "[encoded data removed]",
            "text/plain": [
              "<Figure size 1080x360 with 1 Axes>"
            ]
          },
          "metadata": {
            "needs_background": "light"
          },
          "output_type": "display_data"
        }
      ],
      "source": [
        "df_res_it_std.plot(kind='bar', figsize=(15,5))"
      ]
    }
  ],
  "metadata": {
    "colab": {
      "collapsed_sections": [],
      "name": "mc_t01.ipynb",
      "provenance": [],
      "toc_visible": true
    },
    "interpreter": {
      "hash": "9ed5d1d1dfe9b2261c7a773d4a02e4cd4211327f910f2d56bd92bd353db7856e"
    },
    "kernelspec": {
      "display_name": "Python 3.9.11 ('machine_learning')",
      "language": "python",
      "name": "python3"
    },
    "language_info": {
      "codemirror_mode": {
        "name": "ipython",
        "version": 3
      },
      "file_extension": ".py",
      "mimetype": "text/x-python",
      "name": "python",
      "nbconvert_exporter": "python",
      "pygments_lexer": "ipython3",
      "version": "3.9.11"
    }
  },
  "nbformat": 4,
  "nbformat_minor": 0
}
