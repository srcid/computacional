{
 "cells": [
  {
   "cell_type": "code",
   "execution_count": 1,
   "metadata": {},
   "outputs": [],
   "source": [
    "from ortools.linear_solver import pywraplp\n",
    "from instances import *\n",
    "from pathlib import Path\n",
    "import numpy as np\n",
    "from itertools import chain"
   ]
  },
  {
   "cell_type": "code",
   "execution_count": 2,
   "metadata": {},
   "outputs": [],
   "source": [
    "shapes = [\n",
    "  (100,100),\n",
    "  (150,100),\n",
    "  (100,150)\n",
    "]"
   ]
  },
  {
   "cell_type": "code",
   "execution_count": 3,
   "metadata": {},
   "outputs": [],
   "source": [
    "create_instances(shapes=shapes, random_state=42)"
   ]
  },
  {
   "cell_type": "code",
   "execution_count": 4,
   "metadata": {},
   "outputs": [],
   "source": [
    "output_folder = Path() / 'instances'"
   ]
  },
  {
   "cell_type": "markdown",
   "metadata": {},
   "source": [
    "## Modelo Original"
   ]
  },
  {
   "cell_type": "code",
   "execution_count": 5,
   "metadata": {},
   "outputs": [],
   "source": [
    "for idx,details in enumerate(get_instances()):\n",
    "  s,d,c = details\n",
    "  ns = len(s)\n",
    "  nd = len(d)\n",
    "  x = []\n",
    "  objective_terms = []\n",
    "\n",
    "  solver = pywraplp.Solver.CreateSolver('GLOP')\n",
    "\n",
    "  for i in range(ns):\n",
    "    x.append([])  \n",
    "    for j in range(nd):\n",
    "      x[i].append(solver.NumVar(0, solver.Infinity(), f'x_{i}_{j}'))\n",
    "\n",
    "  for i in range(ns):\n",
    "    solver.Add(solver.Sum([x[i][j] for j in range(nd)]) <= s[i])\n",
    "\n",
    "  for j in range(nd):\n",
    "    solver.Add(solver.Sum([(x[i][j]) for i in range(ns) ]) >= d[j])\n",
    "\n",
    "  for i in range(ns):\n",
    "    for j in range(nd):\n",
    "      objective_terms.append(c[i][j] * x[i][j])\n",
    "\n",
    "  solver.Minimize(solver.Sum(objective_terms))\n",
    "  status = solver.Solve()\n",
    "\n",
    "  # with (output_folder / f'{idx}_model.txt').open('w') as model_file:\n",
    "  #   model_file.write(solver.ExportModelAsLpFormat(False))\n",
    "  #   model_file.close()\n",
    "\n",
    "  with (output_folder / f'{idx}_sol.txt').open('w') as output_file:\n",
    "    if status == pywraplp.Solver.OPTIMAL or status == pywraplp.Solver.FEASIBLE:\n",
    "      output_file.write(f'Total = { np.round(solver.Objective().Value(), 2) }\\n')\n",
    "\n",
    "      # for i in range(ns):\n",
    "      #   for j in range(nd):\n",
    "      #     if x[i][j].solution_value() > 0.0:\n",
    "      #         output_file.write(\n",
    "      #               f'S_{i} envia { np.round(x[i][j].solution_value(), 2) } para D_{j} ' +\n",
    "      #               f'ao custo de { np.round(c[i][j] * x[i][j].solution_value(), 2) }\\n')\n",
    "    \n",
    "    else:\n",
    "      output_file.write('No solution found\\n')\n",
    "    "
   ]
  },
  {
   "cell_type": "markdown",
   "metadata": {},
   "source": [
    "## Usando integralidade"
   ]
  },
  {
   "cell_type": "code",
   "execution_count": 6,
   "metadata": {},
   "outputs": [],
   "source": [
    "for idx,details in enumerate(get_instances()):\n",
    "  s,d,c = details\n",
    "  ns = len(s)\n",
    "  nd = len(d)\n",
    "  x = []\n",
    "  objective_terms = []\n",
    "\n",
    "  solver = pywraplp.Solver.CreateSolver('GLOP')\n",
    "\n",
    "  for i in range(ns):\n",
    "    x.append([])\n",
    "    for j in range(nd):\n",
    "      x[i].append(solver.IntVar(0, solver.Infinity(), f'x_{i}_{j}'))\n",
    "\n",
    "  for i in range(ns):\n",
    "    solver.Add(solver.Sum([x[i][j] for j in range(nd)]) <= s[i])\n",
    "\n",
    "  for j in range(nd):\n",
    "    solver.Add(solver.Sum([(x[i][j]) for i in range(ns) ]) >= d[j])\n",
    "\n",
    "  for i in range(ns):\n",
    "    for j in range(nd):\n",
    "      objective_terms.append(c[i][j] * x[i][j])\n",
    "\n",
    "  solver.Minimize(solver.Sum(objective_terms))\n",
    "  status = solver.Solve()\n",
    "\n",
    "  # with (output_folder / f'{idx}_model_int.txt').open('w') as model_file:\n",
    "  #   model_file.write(solver.ExportModelAsLpFormat(False))\n",
    "  #   model_file.close()\n",
    "\n",
    "  with (output_folder / f'{idx}_sol_int.txt').open('w') as output_file:\n",
    "    if status == pywraplp.Solver.OPTIMAL or status == pywraplp.Solver.FEASIBLE:\n",
    "      output_file.write(f'Total = { np.round(solver.Objective().Value(), 2) }\\n')\n",
    "\n",
    "      # for i in range(ns):\n",
    "      #   for j in range(nd):\n",
    "      #     if x[i][j].solution_value() > 0.0:\n",
    "      #         output_file.write(\n",
    "      #               f'S_{i} envia { x[i][j].solution_value() } para D_{j} ' +\n",
    "      #               f'ao custo de { np.round(c[i][j] * x[i][j].solution_value(), 2) }\\n')\n",
    "    \n",
    "    else:\n",
    "      output_file.write('No solution found\\n')"
   ]
  },
  {
   "cell_type": "markdown",
   "metadata": {},
   "source": [
    "## Solução do dual"
   ]
  },
  {
   "cell_type": "code",
   "execution_count": 8,
   "metadata": {},
   "outputs": [],
   "source": [
    "for idx,details in enumerate(get_instances()):\n",
    "  s,d,c = details\n",
    "  ns = len(s)\n",
    "  nd = len(d)\n",
    "  y = []\n",
    "  objective_terms = []\n",
    "\n",
    "  solver = pywraplp.Solver.CreateSolver('GLOP')\n",
    "\n",
    "  for i in range(ns + nd):\n",
    "    y.append(solver.NumVar(0.0, solver.Infinity(), f'y_{i}'))\n",
    "\n",
    "  for i in range(ns):\n",
    "    for j in range(nd):\n",
    "      solver.Add( y[i] - y[j + ns] >= -c[i][j] )\n",
    "\n",
    "  for i, b in zip(list(range(ns+nd)), chain(s, list(map(lambda x: -x, d)))):\n",
    "    objective_terms.append(y[i] * b)\n",
    "\n",
    "  solver.Minimize(solver.Sum(objective_terms))\n",
    "\n",
    "  status = solver.Solve()\n",
    "\n",
    "  # with (output_folder / f'{idx}_model_dual.txt').open('w') as model_file:\n",
    "  #   model_file.write(solver.ExportModelAsLpFormat(False))\n",
    "  #   model_file.close()\n",
    "\n",
    "  with (output_folder / f'{idx}_sol_dual.txt').open('w') as output_file:\n",
    "    if status == pywraplp.Solver.OPTIMAL or status == pywraplp.Solver.FEASIBLE:\n",
    "      output_file.write(f'Total = { np.round(solver.Objective().Value() * -1, 2) }\\n')\n",
    "    else:\n",
    "      output_file.write('No solution found\\n')"
   ]
  }
 ],
 "metadata": {
  "kernelspec": {
   "display_name": "Python 3.9.11 ('machine_learning')",
   "language": "python",
   "name": "python3"
  },
  "language_info": {
   "codemirror_mode": {
    "name": "ipython",
    "version": 3
   },
   "file_extension": ".py",
   "mimetype": "text/x-python",
   "name": "python",
   "nbconvert_exporter": "python",
   "pygments_lexer": "ipython3",
   "version": "3.9.11"
  },
  "orig_nbformat": 4,
  "vscode": {
   "interpreter": {
    "hash": "9ed5d1d1dfe9b2261c7a773d4a02e4cd4211327f910f2d56bd92bd353db7856e"
   }
  }
 },
 "nbformat": 4,
 "nbformat_minor": 2
}
