{
 "cells": [
  {
   "cell_type": "code",
   "execution_count": 1,
   "metadata": {},
   "outputs": [],
   "source": [
    "from ortools.linear_solver import pywraplp\n",
    "from instances import *"
   ]
  },
  {
   "cell_type": "code",
   "execution_count": 2,
   "metadata": {},
   "outputs": [],
   "source": [
    "solver = pywraplp.Solver.CreateSolver('GLOP')"
   ]
  },
  {
   "cell_type": "code",
   "execution_count": 3,
   "metadata": {},
   "outputs": [],
   "source": [
    "output_file = open('respostas.txt', 'w')"
   ]
  },
  {
   "cell_type": "code",
   "execution_count": 4,
   "metadata": {},
   "outputs": [],
   "source": [
    "for idx,details in enumerate(instances()):\n",
    "  ns,nd,s,d,c = details\n",
    "  x = []\n",
    "  objective_terms = []\n",
    "\n",
    "  for i in range(ns):\n",
    "    x.append([])  \n",
    "    for j in range(nd):\n",
    "      x[i].append(solver.NumVar(0, solver.Infinity(), f'x_{i}_{j}'))\n",
    "\n",
    "  for i in range(ns):\n",
    "    solver.Add(solver.Sum([x[i][j] for j in range(nd)]) <= s[i])\n",
    "\n",
    "  for j in range(nd):\n",
    "    solver.Add(solver.Sum([(x[i][j]) for i in range(ns) ]) >= d[j])\n",
    "\n",
    "  for i in range(ns):\n",
    "    for j in range(nd):\n",
    "      objective_terms.append(c[i][j] * x[i][j])\n",
    "\n",
    "  solver.Minimize(solver.Sum(objective_terms))\n",
    "  status = solver.Solve()\n",
    "\n",
    "  output_file.write(f'instacia {idx}\\n')\n",
    "  \n",
    "  if status == pywraplp.Solver.OPTIMAL or status == pywraplp.Solver.FEASIBLE:\n",
    "    output_file.write(f'Total = {solver.Objective().Value()}\\n')\n",
    "\n",
    "    for i in range(ns):\n",
    "        for j in range(nd):\n",
    "            if x[i][j].solution_value() > 0.0:\n",
    "                output_file.write(f'S_{i} envia {x[i][j].solution_value()} para D_{j} ' +\n",
    "                      f'ao custo de {c[i][j] * x[i][j].solution_value()}\\n')\n",
    "  \n",
    "  else:\n",
    "    output_file.write('No solution found\\n')\n",
    "    \n",
    "  output_file.write('\\n')\n",
    "    "
   ]
  },
  {
   "cell_type": "code",
   "execution_count": 5,
   "metadata": {},
   "outputs": [],
   "source": [
    "output_file.close()"
   ]
  }
 ],
 "metadata": {
  "kernelspec": {
   "display_name": "Python 3.9.11 ('machine_learning')",
   "language": "python",
   "name": "python3"
  },
  "language_info": {
   "codemirror_mode": {
    "name": "ipython",
    "version": 3
   },
   "file_extension": ".py",
   "mimetype": "text/x-python",
   "name": "python",
   "nbconvert_exporter": "python",
   "pygments_lexer": "ipython3",
   "version": "3.9.11"
  },
  "orig_nbformat": 4,
  "vscode": {
   "interpreter": {
    "hash": "9ed5d1d1dfe9b2261c7a773d4a02e4cd4211327f910f2d56bd92bd353db7856e"
   }
  }
 },
 "nbformat": 4,
 "nbformat_minor": 2
}
